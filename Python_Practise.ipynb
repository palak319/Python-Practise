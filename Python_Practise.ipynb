{
  "nbformat": 4,
  "nbformat_minor": 0,
  "metadata": {
    "colab": {
      "provenance": [],
      "authorship_tag": "ABX9TyPx+PT8GPaFuTyIFQDtFHgA"
    },
    "kernelspec": {
      "name": "python3",
      "display_name": "Python 3"
    },
    "language_info": {
      "name": "python"
    }
  },
  "cells": [
    {
      "cell_type": "code",
      "execution_count": null,
      "metadata": {
        "colab": {
          "base_uri": "https://localhost:8080/"
        },
        "id": "ndEgUgw-5J-5",
        "outputId": "0f94deae-f95b-452e-e578-f3673fe79645"
      },
      "outputs": [
        {
          "output_type": "stream",
          "name": "stdout",
          "text": [
            "5\n",
            "1\n"
          ]
        }
      ],
      "source": [
        "#find max and min in array\n",
        "\n",
        "def minmax(arr):\n",
        "  n = len(arr)\n",
        "\n",
        "  if(n/2==0):\n",
        "    mx = max(arr[0], arr[1])\n",
        "    mn = min(arr[0], arr[1])\n",
        "  else:\n",
        "    mn=mx = arr[0]\n",
        "  i=1\n",
        "  while(i<n-1):\n",
        "    if(arr[i]<arr[i+1]):\n",
        "      mn = min(mn, arr[i])\n",
        "      mx = max(mx, arr[i+1])\n",
        "    else:\n",
        "      mn = min(mn, arr[i+1])\n",
        "      mx = max(mx, arr[i])\n",
        "    i = i+1\n",
        "\n",
        "  return (mn, mx)\n",
        "\n",
        "arr = [1,2,2,3,5]\n",
        "mn, mx = minmax(arr)\n",
        "print(mx)\n",
        "print(mn)"
      ]
    },
    {
      "cell_type": "code",
      "source": [
        "def reverseit(arr, s, e):\n",
        "     n = len(arr)\n",
        "     \n",
        "     while s <= e:\n",
        "         arr[s], arr[e] = arr[e], arr[s]\n",
        "        \n",
        "         s += 1\n",
        "         e -= 1\n",
        "\n",
        "arr = []\n",
        "n = len(arr)\n",
        "print(n)\n",
        "reverseit(arr,0, n-1)\n",
        "print(arr)\n",
        "\n",
        "#print(mn)\n",
        "\n",
        "\n",
        "\n",
        "\n"
      ],
      "metadata": {
        "colab": {
          "base_uri": "https://localhost:8080/"
        },
        "id": "nhiCNrh5yUfk",
        "outputId": "f208c943-9a99-43f0-a249-b881f39c20eb"
      },
      "execution_count": null,
      "outputs": [
        {
          "output_type": "stream",
          "name": "stdout",
          "text": [
            "4\n",
            "[5, 3, 2, 1]\n"
          ]
        }
      ]
    },
    {
      "cell_type": "code",
      "source": [
        "#MAX SUB ARRAY\n",
        "\n",
        "def minSub(arr):\n",
        "  maxend = 0\n",
        "  max_sofar = arr[0]\n",
        "\n",
        "  for i in range(0, len(arr)):\n",
        "    maxend = maxend + arr[i]\n",
        "    if(max_sofar < maxend):\n",
        "      max_sofar = maxend\n",
        "    elif(maxend<0):\n",
        "      maxend=0\n",
        "  return max_sofar\n",
        "            \n",
        "arr = [5,4,-1,7,8]\n",
        "ans = minSub(arr)\n",
        "print(ans)\n",
        "\n",
        "#print(mn)\n",
        "\n",
        "\n",
        "\n",
        "\n"
      ],
      "metadata": {
        "colab": {
          "base_uri": "https://localhost:8080/"
        },
        "id": "vErfJhBw2pnr",
        "outputId": "808c55a1-f512-4ddd-b054-98a301d6b27f"
      },
      "execution_count": null,
      "outputs": [
        {
          "output_type": "stream",
          "name": "stdout",
          "text": [
            "23\n"
          ]
        }
      ]
    },
    {
      "cell_type": "code",
      "source": [
        "def minDiff(arr,m):\n",
        "    n = len(arr)\n",
        "    arr.sort()\n",
        "    mindiff = arr[n -1] - arr[0]\n",
        "    for i in range(0, n-m):\n",
        "        #mx = max(arr[i], arr[i+m-1])\n",
        "        #mn = min(arr[i], arr[i+m-1])\n",
        "        mindiff = min(mindiff, arr[i+m-1]-arr[i])\n",
        "        i += 1\n",
        "    return mindiff\n",
        "    \n",
        "            \n",
        "arr = [3, 4, 1, 9, 56, 7, 9, 12]\n",
        "m = 5\n",
        "\n",
        "ans = minDiff(arr,m)\n",
        "print(ans)\n",
        "\n",
        "#print(mn)\n",
        "\n",
        "\n",
        "\n",
        "\n"
      ],
      "metadata": {
        "colab": {
          "base_uri": "https://localhost:8080/"
        },
        "id": "CHMsyzOPFh0q",
        "outputId": "8383d101-5d73-4382-82ab-21d7fe393624"
      },
      "execution_count": null,
      "outputs": [
        {
          "output_type": "stream",
          "name": "stdout",
          "text": [
            "6\n"
          ]
        }
      ]
    },
    {
      "cell_type": "code",
      "source": [
        "arr = [7, 3, 2, 4, 9, 12, 56]\n",
        "print(len(arr))"
      ],
      "metadata": {
        "colab": {
          "base_uri": "https://localhost:8080/"
        },
        "id": "YmVqUfAqFkse",
        "outputId": "d0d89c05-2da5-4f68-e7a7-13e9a540c4df"
      },
      "execution_count": null,
      "outputs": [
        {
          "output_type": "stream",
          "name": "stdout",
          "text": [
            "7\n"
          ]
        }
      ]
    },
    {
      "cell_type": "code",
      "source": [
        "def findelement(arr, key):\n",
        "    end = len(arr)-1\n",
        "    start = 0\n",
        "    for i in range(0,end):\n",
        "      if(arr[i]==key):\n",
        "        return i \n",
        "      i += 1\n",
        "\n",
        "    #while(start<=end):\n",
        "\n",
        "       # mid = (start+end) // 2\n",
        "        \n",
        "        #if(key==arr[mid]):\n",
        "       #     return mid\n",
        "      #  elif(key > arr[mid]):\n",
        "         #   start = mid+1\n",
        "            \n",
        "       # else:\n",
        "        \n",
        "           # end = mid -1\n",
        "        \n",
        "\n",
        "    return -1      \n",
        "       \n",
        "        \n",
        "            \n",
        "    \n",
        "    \n",
        "arr = [30, 40, 50, 10, 20]\n",
        "key = 10\n",
        "\n",
        "\n",
        "ans = findelement(arr,key)\n",
        "print(ans)"
      ],
      "metadata": {
        "colab": {
          "base_uri": "https://localhost:8080/"
        },
        "id": "DdM7AqGsaiBM",
        "outputId": "2ac954fe-c245-46ee-cd76-120deb6ef477"
      },
      "execution_count": null,
      "outputs": [
        {
          "output_type": "stream",
          "name": "stdout",
          "text": [
            "3\n"
          ]
        }
      ]
    },
    {
      "cell_type": "code",
      "source": [
        "# next permutation\n",
        "\n",
        "def nextP(arr):\n",
        "    n = len(arr)\n",
        "    if (n==1):\n",
        "        return arr\n",
        "    \n",
        "    last = 0\n",
        "    swap = n-1\n",
        "    for i in range(n-1, 0, -1):\n",
        "        if(arr[i]>arr[i-1]):\n",
        "            last = i\n",
        "            break\n",
        "            \n",
        "    if(last==0):\n",
        "        arr.sort()\n",
        "        return arr\n",
        "        \n",
        "    while(arr[last-1]>=arr[swap]):\n",
        "        swap -= 1\n",
        "        \n",
        "        \n",
        "    arr[last-1], arr[swap] = arr[swap], arr[last-1]\n",
        "    arr[last:] = sorted(arr[last:])\n",
        "    return arr\n",
        "    \n",
        "arr = [5,4,3,2,1]\n",
        "\n",
        "ans = nextP(arr)\n",
        "print(ans)\n",
        "\n",
        "    "
      ],
      "metadata": {
        "colab": {
          "base_uri": "https://localhost:8080/"
        },
        "id": "zgzlb-RdnW-g",
        "outputId": "883e09fb-de81-4559-b64d-7a33a0878bbb"
      },
      "execution_count": null,
      "outputs": [
        {
          "output_type": "stream",
          "name": "stdout",
          "text": [
            "[1, 2, 3, 4, 5]\n"
          ]
        }
      ]
    },
    {
      "cell_type": "code",
      "source": [
        "# next permutation\n",
        "\n",
        "def nextP(arr):\n",
        "    n = len(arr)\n",
        "    if (n==1):\n",
        "        return arr\n",
        "    \n",
        "    last = 0\n",
        "    swap = n-1\n",
        "    for i in range(n-1, 0, -1):\n",
        "        if(arr[i]>arr[i-1]):\n",
        "            last = i\n",
        "            break\n",
        "            \n",
        "    if(last==0):\n",
        "        arr.sort()\n",
        "        return arr\n",
        "        \n",
        "    while(arr[last-1]>=arr[swap]):\n",
        "        swap -= 1\n",
        "        \n",
        "        \n",
        "    arr[last-1], arr[swap] = arr[swap], arr[last-1]\n",
        "    arr[last:] = sorted(arr[last:])\n",
        "    return arr\n",
        "    \n",
        "arr = [5,4,3,2,1]\n",
        "m = min(arr)\n",
        "ans = nextP(arr)\n",
        "print(m)\n",
        "\n",
        "    "
      ],
      "metadata": {
        "colab": {
          "base_uri": "https://localhost:8080/"
        },
        "id": "IKiEa0xUnO1e",
        "outputId": "c27eaeb1-d4bd-4d43-a55f-b1ccd70cdddc"
      },
      "execution_count": null,
      "outputs": [
        {
          "output_type": "stream",
          "name": "stdout",
          "text": [
            "1\n"
          ]
        }
      ]
    },
    {
      "cell_type": "code",
      "source": [
        " m = max(prices)\n",
        "        l = len(prices)\n",
        "        index = 0\n",
        "        sell = 0\n",
        "        for i in range(0, l):\n",
        "            if (prices[i] < m and prices[i]!=0):\n",
        "                m = prices[i]\n",
        "                index = i\n",
        "        if (index == (l-1)):\n",
        "            return 0\n",
        "\n",
        "        for i in range(index, l):\n",
        "            diff = prices[i] - prices[index]\n",
        "            if (diff > sell):\n",
        "                sell = diff\n",
        "        return sell\n",
        "\n",
        "    \n",
        "           "
      ],
      "metadata": {
        "id": "X3RHZIyQ3Nv2"
      },
      "execution_count": null,
      "outputs": []
    }
  ]
}